{
 "cells": [
  {
   "cell_type": "markdown",
   "metadata": {},
   "source": [
    "# TP4 - Background Substraction\n",
    "ATRIM - Option Datasim\n",
    "\n",
    "Ecole Centrale Nantes\n",
    "\n",
    "Diana Mateus"
   ]
  },
  {
   "cell_type": "markdown",
   "metadata": {},
   "source": [
    "Participants: Yassine JAMOUD, Samy HAFFOUDHI"
   ]
  },
  {
   "cell_type": "markdown",
   "metadata": {},
   "source": [
    "### BACKGROUND SUBSTRACTION \n",
    "\n",
    "The goal of this TP is to enhance the video of a neurointervention  to improve the visualization of moving tools. To this end you will implement a pipeline of image processing methods to detect the moving tools automatically. \n",
    "\n",
    "\n",
    "#### Methodology\n",
    "\n",
    "As the brain is mostly static one way to detect the moving tools is to substract the background (first image) from each of the subsequent images. However, the results of this step need to be further improved. To this end, you will design a pipilene with the methods learnt in this course to produce a binary mask for the pixels that belong to the tools. \n",
    "\n",
    "In your pipeline use at least:\n",
    "- one histogram transformation\n",
    "- one morphological operation\n",
    "- one filtering operation in the spatial domain\n",
    "- one filtering operation in the spectral domain\n",
    "- one segmentation method\n",
    "\n",
    "_The same pipeline should be applied to every image_\n",
    "\n",
    "\n",
    "#### Expected output\n",
    "\n",
    "The output of your image processing pipeline should be one binary image mask (with values 0 or 1) for every input image of the sequence, where \n",
    "- the zero valued pixels indicate the moving tools inside each image.  \n",
    "- the pixels with value 1 indicate the background (not a moving tool)\n",
    "\n",
    "To validate the proposed method, a human has annotated (manually drawn) the tools of interest within the images. The annotated pixels belong either to catheters or guidewires. **Your masks should be as close as possible to the human annotations.**\n",
    "\n",
    "\n",
    "#### Visualization of data and manual annotations\n",
    "\n",
    "- Data visualization  (**do not include in final version**): visualize the neurointervention images in the ``` catheter``` folder with name ```frame_#```\n",
    "\n",
    "- Individual Annotation visualization  (** do not include in final version**): visualize the manual annotations in the ```catheter``` folder with names ``` #_MicroCath``` and ```#_GuideWire```. \n",
    "\n",
    "- Individual Annotation visualization  (** do not include in final version**): visualize the full manual annotation (union of the guidewire and microcatheter masks) by composing the union of the ``` #_MicroCath``` and ```#_GuideWire```. It should also be a binary mask.\n",
    "\n",
    "\n",
    "\n",
    "#### Experimental (quantitative and qualitative  validation)\n",
    "\n",
    "To compare your results and the manual annotations use the mean SAD (Sum of Absolute Differences) and the SNR (Signal to Noise Ratio) errors between your  mask and  the **full** manual mask. \n",
    "\n",
    "Present the results qualitatively and quantitatively:\n",
    "\n",
    "- Qualitatively: \n",
    "     - Show your mask side by side with the manually annotated mask\n",
    "     - Create an enhanced image suitable for guidance: enhance the contrast of the image and overlay your mask on the green channel of the enhanced image.\n",
    "\n",
    "- Quantitatively: \n",
    "    - compute and print the SAD (sum of absolute differences) error per image. \n",
    "    - compute and print the MSE (sum of squared  differences ) error per image.\n",
    "    - compute and print the PSNR (Peak signal to noise ratio) taking as reference image the manual annotations. \n",
    "    - Then compute and print the mean and standard deviation of the three measures (SAD, MSE and PSNR) over the entire sequence.\n",
    "    \n",
    "Hints:\n",
    "```\n",
    "mse = numpy.mean( (img1 - img2) ** 2 )\n",
    "PIXEL_MAX = 255.0 #or 1.0 or max over the signal of interest\n",
    "psnr = 20 * math.log10(PIXEL_MAX / math.sqrt(mse))\n",
    "```\n",
    "or look at ```skimage.measure``` module\n",
    "\n",
    "You may use modules such as ```scipy```, ```skimage``` or ``sklearn``(e.g. for clustering with K-means or a Gaussian Mixture Model). Ask me for other external modules.\n"
   ]
  },
  {
   "cell_type": "markdown",
   "metadata": {},
   "source": [
    "### REPORT INSTRUCTIONS\n",
    "\n",
    "#### 1. Intermediate Steps (Code and Description)\n",
    "Report the results of the intermediate steps (when you add or remove a method from the pipeline):\n",
    "- provide a text introduction with the idea that you intend to try\n",
    "- show the implementation of the idea with code \n",
    "- evaluate the quantitative and qualitative changes  when including, varying, adapting, etc the proposed method\n",
    "- Discuss the scores or visualization improvements/degradations \n",
    "\n",
    "#### 2. Final Pipeline (Code and Description)\n",
    "Provide a detailed description of the best performing pipeline. Comment the code such that it is straightforward to relate the pipeline description to the code. Add your conclusions\n",
    "\n",
    "- Describe the final retained pipeline\n",
    "- Give a justification for every step (e.g. supported by experimental intermediate steps or theory). \n",
    "- Add the **commented** code\n",
    "- Display the qualitative and quantitative results \n",
    "- Give your conclusions"
   ]
  },
  {
   "cell_type": "markdown",
   "metadata": {},
   "source": [
    "## Présentation de la méthode envisagée"
   ]
  },
  {
   "cell_type": "markdown",
   "metadata": {},
   "source": [
    "À partir des différences entre les différentes frames et l'image de fond on réalisera :\n",
    "\n",
    "* un premier thresholding afin de mieux distinguer l'outil du fond noir, la valeur du threshold sera obtenu suite à une visualisation au préalable de l'histogramme\n",
    "* un filtrage passe-bas afin de réduire le bruit\n",
    "* une suppression manuelle d'une ligne verticale parasite à gauche des images et hors de la région d'interêt. On peut également utiliser cette méthode pour supprimer une partie gauche de l'outil pas présente sur les images objectifs fournies (cf ligne commentée de la partie \"Suppression maneulle\")\n",
    "* une erosion afin de supprimer des points isolés de l'image et affiner le tracé\n",
    "* un thresholding afin d'obtenir le type de masque desiré"
   ]
  },
  {
   "cell_type": "markdown",
   "metadata": {},
   "source": [
    "## Réalisation"
   ]
  },
  {
   "cell_type": "code",
   "execution_count": null,
   "metadata": {
    "scrolled": false
   },
   "outputs": [],
   "source": [
    "import os\n",
    "import numpy as np\n",
    "import matplotlib.pyplot as plt\n",
    "from matplotlib import cm\n",
    "import skimage.io as io\n",
    "from scipy import ndimage\n",
    "from copy import deepcopy"
   ]
  },
  {
   "cell_type": "markdown",
   "metadata": {},
   "source": [
    "### Visualisation des frames"
   ]
  },
  {
   "cell_type": "code",
   "execution_count": null,
   "metadata": {},
   "outputs": [],
   "source": [
    "IMDIR = 'catheter'\n",
    "fig=plt.figure(figsize=(10, 10))\n",
    "\n",
    "frames = {}\n",
    "\n",
    "for root, dirnames, filenames in os.walk(IMDIR):\n",
    "    for filename in filenames:\n",
    "        f = os.path.join(root, filename)\n",
    "        if filename.startswith(('frame_')):\n",
    "            if filename.endswith('201'):\n",
    "                background = io.imread(f, as_gray=True).astype('float') / 255\n",
    "            else:\n",
    "                frames[filename[-3:]] = io.imread(f, as_gray=True).astype('float') / 255\n",
    "                \n",
    "i = 1\n",
    "for key in frames:\n",
    "    plt.subplot(3, 3, i)\n",
    "    plt.imshow(frames[key], cmap='gray')\n",
    "    plt.axis('off')\n",
    "    plt.title(key)\n",
    "    i += 1\n",
    "        \n",
    "plt.show()"
   ]
  },
  {
   "cell_type": "markdown",
   "metadata": {},
   "source": [
    "### Visualisation des différences avec le fond"
   ]
  },
  {
   "cell_type": "code",
   "execution_count": null,
   "metadata": {},
   "outputs": [],
   "source": [
    "fig = plt.figure(figsize=(10, 10))\n",
    "\n",
    "diff = {}\n",
    "for key in frames:\n",
    "    diff[key] = abs(frames[key] - background)   \n",
    "    \n",
    "i = 1\n",
    "for key in diff:\n",
    "    plt.subplot(3, 3, i)\n",
    "    plt.imshow(diff[key], cmap='gray')\n",
    "    plt.axis('off')\n",
    "    plt.title(key)\n",
    "    i += 1\n",
    "    \n",
    "plt.show()"
   ]
  },
  {
   "cell_type": "markdown",
   "metadata": {},
   "source": [
    "### Visualisation des histogrammes"
   ]
  },
  {
   "cell_type": "code",
   "execution_count": null,
   "metadata": {},
   "outputs": [],
   "source": [
    "fig=plt.figure(figsize=(10, 40))\n",
    "\n",
    "i = 1\n",
    "for key in diff:\n",
    "    hist, _ = np.histogram(diff[key], bins=256)\n",
    "    plt.subplot(9, 2, i)\n",
    "    plt.imshow(diff[key], cmap='gray')\n",
    "    plt.subplot(9, 2, i+1)\n",
    "    plt.plot(hist)\n",
    "    i += 2\n",
    "\n",
    "plt.show()"
   ]
  },
  {
   "cell_type": "markdown",
   "metadata": {},
   "source": [
    "### Thresholding"
   ]
  },
  {
   "cell_type": "code",
   "execution_count": null,
   "metadata": {},
   "outputs": [],
   "source": [
    "fig=plt.figure(figsize=(10, 10))\n",
    "\n",
    "diff_threshold = deepcopy(diff)\n",
    "\n",
    "i = 1\n",
    "for key in diff:\n",
    "    diff_threshold[key] = np.where(diff[key] < 0.12 * np.max(diff[key]), 0, 1)\n",
    "    plt.subplot(3, 3, i)\n",
    "    plt.imshow(diff_threshold[key], cmap='gray')\n",
    "    plt.axis('off')\n",
    "    plt.title(key)\n",
    "    i += 1\n",
    "\n",
    "plt.show()"
   ]
  },
  {
   "cell_type": "markdown",
   "metadata": {},
   "source": [
    "Maintenant nous distinguons mieux l'outil et obtenons un résultat assez satisfaisant par un simple thresholding"
   ]
  },
  {
   "cell_type": "markdown",
   "metadata": {},
   "source": [
    "### Filtre passe-bas"
   ]
  },
  {
   "cell_type": "code",
   "execution_count": null,
   "metadata": {},
   "outputs": [],
   "source": [
    "def lowpass_filter(D, shape, filter_type='ideal'):\n",
    "    Q, P = shape\n",
    "    if filter_type == 'ideal':\n",
    "        lowpass = np.array([[int((u - P//2)**2 + (v - Q//2)**2 < D**2) for u in range(P)] for v in range(Q)])\n",
    "    else:\n",
    "        lowpass = np.array([[ np.exp(-((u - P//2)**2 + (v - Q//2)**2 )/(2*D**2)) for u in range(P)]for v in range(Q)])\n",
    "    return lowpass\n",
    "\n",
    "def highpass_filter(D,shape,filter_type='ideal'):\n",
    "    Q, P = shape\n",
    "    if filter_type == 'ideal':\n",
    "        lowpass = np.array([[int((u - P//2)**2 + (v - Q//2)**2 > D**2) for u in range(P)] for v in range(Q)])\n",
    "    else:\n",
    "        lowpass = 1-lowpass_filter(D,shape,'gaussian')\n",
    "    return lowpass\n",
    "\n",
    "def apply_filter(im, f):\n",
    "    N, M = im.shape\n",
    "    im_padded = np.zeros((2*N, 2*M))\n",
    "    im_padded[0:N,0:M] = im\n",
    "    im_fft = np.fft.fft2(im_padded)\n",
    "    im_fft = np.fft.fftshift(im_fft)\n",
    "    res_fft = f * im_fft\n",
    "    res = np.fft.ifft2(np.fft.ifftshift(res_fft))\n",
    "    res = np.real(res)\n",
    "    res = res[:N, :M]\n",
    "    \n",
    "    return res\n",
    "\n",
    "H, W = background.shape\n",
    "lowpass = lowpass_filter(50, (2*H,2*W), 'gauss')\n",
    "\n",
    "diff_filtered = deepcopy(diff_threshold)\n",
    "\n",
    "fig=plt.figure(figsize=(20, 40))\n",
    "\n",
    "i = 1\n",
    "for key in diff_threshold:\n",
    "    plt.subplot(9, 4, i)\n",
    "    plt.imshow(diff_threshold[key], cmap='gray')\n",
    "    plt.title(key)\n",
    "    plt.axis('off')\n",
    "    plt.subplot(9, 4, i+1)\n",
    "    plt.imshow(np.log(np.abs(np.fft.fftshift(np.fft.fft2(diff_threshold[key])))), cmap='gray')\n",
    "    plt.axis('off')\n",
    "    diff_filtered[key] = apply_filter(diff_threshold[key], lowpass)\n",
    "    plt.subplot(9, 4, i+2)\n",
    "    plt.imshow(diff_filtered[key], cmap='gray')\n",
    "    plt.axis('off')\n",
    "    plt.subplot(9, 4, i+3)\n",
    "    plt.imshow(np.log(np.abs(np.fft.fftshift(np.fft.fft2(diff_filtered[key])))), cmap='gray')\n",
    "    plt.axis('off')\n",
    "    i += 4\n",
    "        \n",
    "plt.show()"
   ]
  },
  {
   "cell_type": "markdown",
   "metadata": {},
   "source": [
    "On a alors éliminé du bruit, l'amélioration est par exemple particuliérement visible pour la première frame "
   ]
  },
  {
   "cell_type": "markdown",
   "metadata": {},
   "source": [
    "### Suppression manuelle"
   ]
  },
  {
   "cell_type": "code",
   "execution_count": null,
   "metadata": {},
   "outputs": [],
   "source": [
    "fig=plt.figure(figsize=(10, 10))\n",
    "\n",
    "diff_final = deepcopy(diff_filtered)\n",
    "\n",
    "i = 1\n",
    "for key in diff_enhanced:\n",
    "    diff_final[key][:,:60] = 0 # on retire le trait vertical à gauche des images\n",
    "    diff_final[key][-25:,:] = 0 # on retire le bas de l'outil\n",
    "    plt.subplot(3, 3, i)\n",
    "    plt.imshow(diff_final[key], cmap='gray')\n",
    "    plt.axis('off')\n",
    "    plt.title(key)\n",
    "    i += 1"
   ]
  },
  {
   "cell_type": "markdown",
   "metadata": {},
   "source": [
    "La ligne verticale à gauche de certaines des images a bien été éliminée."
   ]
  },
  {
   "cell_type": "markdown",
   "metadata": {},
   "source": [
    "### Erosion"
   ]
  },
  {
   "cell_type": "code",
   "execution_count": null,
   "metadata": {},
   "outputs": [],
   "source": [
    "from skimage.morphology import dilation, erosion, opening, closing\n",
    "\n",
    "fig=plt.figure(figsize=(10, 10))\n",
    "\n",
    "diff_morph = deepcopy(diff_final)\n",
    "\n",
    "i = 1\n",
    "for key in diff_morph:\n",
    "    diff_morph[key] = erosion(diff_morph[key], np.ones((4,4)))\n",
    "    \n",
    "    plt.subplot(3, 3, i)\n",
    "    plt.imshow(diff_morph[key], cmap='gray')\n",
    "    plt.axis('off')\n",
    "    plt.title(key)\n",
    "    i += 1\n",
    "\n",
    "plt.show()"
   ]
  },
  {
   "cell_type": "markdown",
   "metadata": {},
   "source": [
    "### Last thresholding"
   ]
  },
  {
   "cell_type": "code",
   "execution_count": null,
   "metadata": {},
   "outputs": [],
   "source": [
    "fig=plt.figure(figsize=(10, 40))\n",
    "\n",
    "result = deepcopy(diff_morph)\n",
    "old = {}\n",
    "\n",
    "i = 1\n",
    "for key in diff_morph:\n",
    "    result[key] = np.where(result[key] > 0.15 * np.max(result[key]), 0, 1)\n",
    "    old[key] = np.where(diff_final[key] > 0.15 * np.max(diff_final[key]), 0, 1)\n",
    "    plt.subplot(9, 2, i)\n",
    "    plt.imshow(result[key], cmap='gray')\n",
    "    plt.axis('off')\n",
    "    plt.title(key)\n",
    "    plt.subplot(9, 2, i+1)\n",
    "    plt.imshow(old[key], cmap='gray')\n",
    "    plt.axis('off')\n",
    "    plt.title('old')\n",
    "    i += 2\n",
    "\n",
    "plt.show()"
   ]
  },
  {
   "cell_type": "markdown",
   "metadata": {},
   "source": [
    "L'erosion a bien persmis de supprimer quelques points isolés de l'image et d'affiner le tracé"
   ]
  },
  {
   "cell_type": "markdown",
   "metadata": {},
   "source": [
    "## Évaluation des performances"
   ]
  },
  {
   "cell_type": "markdown",
   "metadata": {},
   "source": [
    "### Visualisation des masks"
   ]
  },
  {
   "cell_type": "code",
   "execution_count": null,
   "metadata": {},
   "outputs": [],
   "source": [
    "IMDIR = 'catheter'\n",
    "fig=plt.figure(figsize=(10, 40))\n",
    "\n",
    "wire = {}\n",
    "cath = {}\n",
    "\n",
    "for root, dirnames, filenames in os.walk(IMDIR):\n",
    "    for filename in filenames:\n",
    "        f = os.path.join(root, filename)\n",
    "        if filename.startswith(('2')):\n",
    "            if not filename.startswith('201'):\n",
    "                im = io.imread(f)\n",
    "                if len(im.shape) > 2:\n",
    "                    im = im[:,:,0]\n",
    "                if filename.endswith('GuideWire.tiff'):\n",
    "                    wire[filename[:3]] = im.astype('float') / 255\n",
    "                else:\n",
    "                    cath[filename[:3]] = im.astype('float') / 255\n",
    "\n",
    "goal = deepcopy(wire)\n",
    "for key in goal:\n",
    "    goal[key] = (wire[key] + cath[key]) / 2\n",
    "    \n",
    "i = 1\n",
    "for key in frames:\n",
    "    plt.subplot(9, 2, i)\n",
    "    plt.imshow(result[key], cmap='gray')\n",
    "    plt.axis('off')\n",
    "    plt.title(key)\n",
    "    plt.subplot(9, 2, i+1)\n",
    "    plt.imshow(goal[key], cmap='gray')\n",
    "    plt.axis('off')\n",
    "    plt.title(key)\n",
    "    i += 2\n",
    "    \n",
    "plt.show()"
   ]
  },
  {
   "cell_type": "markdown",
   "metadata": {},
   "source": [
    "### Calculs d'erreurs"
   ]
  },
  {
   "cell_type": "markdown",
   "metadata": {},
   "source": [
    "lA FAIRE : partie 'Experimental' de la consigne"
   ]
  },
  {
   "cell_type": "markdown",
   "metadata": {},
   "source": [
    "### Commentaires et conclusion"
   ]
  },
  {
   "cell_type": "markdown",
   "metadata": {},
   "source": [
    "Lors de ce TP nous avons imaginé et mis en oeuvre une méthode permettant de suivre la trajectoire d'un outil sur différentes frames par rapport à un fond. Notre méthode s'appuie sur différentes notions du cours et permet d'obtenir des masks représentant assez clairement l'outil, de manière automatisée et identique pour les différentes frames.\n",
    "\n",
    "En ce qui concerne la comparaison avec les masks objectifs fournis on remarque que notre méthode automatisée permet d'observer plus d'élements de l'outils (par exemple la partie gauche de celui-ci). Cependant le fil est moins visible que dans les masks fournis à cause de quelques discontinuités qui persistent et la présence d'élements qui certes appartiennent à l'outil mais ne sont pas vraiment pertinants pour répondre à la problématique (la partie inférieure de l'outil par exemple).\n",
    "\n",
    "Ainsi, cette méthode présente un interêt pour des applications pratiques (gain de temps considérable par rapport à une méthode manuelle par exemple) et permettrait avec l'optimisation de certains paramètres ou l'utilisation de méthodes plus avancées d'obtenir en plus des résultats encore plus proches des masks fournis."
   ]
  }
 ],
 "metadata": {
  "anaconda-cloud": {},
  "kernelspec": {
   "display_name": "Python 3 (ipykernel)",
   "language": "python",
   "name": "python3"
  },
  "language_info": {
   "codemirror_mode": {
    "name": "ipython",
    "version": 3
   },
   "file_extension": ".py",
   "mimetype": "text/x-python",
   "name": "python",
   "nbconvert_exporter": "python",
   "pygments_lexer": "ipython3",
   "version": "3.9.7"
  }
 },
 "nbformat": 4,
 "nbformat_minor": 1
}

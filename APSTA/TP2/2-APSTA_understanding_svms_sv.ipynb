{
 "cells": [
  {
   "cell_type": "markdown",
   "metadata": {
    "id": "99C1q-T6aOew"
   },
   "source": [
    "<small><i>This notebook was initially put together by [Jake Vanderplas](http://www.vanderplas.com). Source and license info is on [GitHub](https://github.com/jakevdp/sklearn_tutorial/).</i></small>\n",
    "\n",
    "Modified by Diana Mateus"
   ]
  },
  {
   "cell_type": "markdown",
   "metadata": {},
   "source": [
    "**Participants:** Yassine Jamoud, Samy Haffoudhi"
   ]
  },
  {
   "cell_type": "markdown",
   "metadata": {
    "id": "sW4YkeoKaOez"
   },
   "source": [
    "# Supervised Learning: Support Vector Machines"
   ]
  },
  {
   "cell_type": "markdown",
   "metadata": {
    "id": "7khYRGqPaOe2"
   },
   "source": [
    "Previously we introduced supervised machine learning.\n",
    "There are many supervised learning algorithms available; here we'll go into brief detail one of the most powerful and interesting methods: **Support Vector Machines (SVMs)**."
   ]
  },
  {
   "cell_type": "code",
   "execution_count": null,
   "metadata": {
    "id": "CHR8ATm6aOe5"
   },
   "outputs": [],
   "source": [
    "%matplotlib inline\n",
    "import numpy as np\n",
    "import matplotlib.pyplot as plt\n",
    "from scipy import stats\n",
    "\n",
    "# use seaborn plotting defaults\n",
    "#import seaborn as sns; sns.set()"
   ]
  },
  {
   "cell_type": "markdown",
   "metadata": {
    "id": "L21WAlD1aOfG"
   },
   "source": [
    "## Motivating Support Vector Machines"
   ]
  },
  {
   "cell_type": "markdown",
   "metadata": {
    "id": "0blg_KWKaOfI"
   },
   "source": [
    "Support Vector Machines (SVMs) are a powerful supervised learning algorithm used for **classification** or for **regression**. SVMs are a **discriminative** classifier: that is, they draw a boundary between clusters of data.\n",
    "\n",
    "Let's show a quick example of support vector classification. First we need to create a dataset:"
   ]
  },
  {
   "cell_type": "code",
   "execution_count": null,
   "metadata": {
    "colab": {
     "base_uri": "https://localhost:8080/",
     "height": 319
    },
    "id": "vxI7CpRMaOfJ",
    "outputId": "7ce13baf-c39d-42ab-863e-b55e88caf2a1"
   },
   "outputs": [],
   "source": [
    "# from sklearn.datasets.samples_generator import make_blobs\n",
    "from sklearn.datasets import make_blobs\n",
    "\n",
    "#Creating point sets\n",
    "X, y = make_blobs(n_samples=50, centers=2,\n",
    "                  random_state=0, cluster_std=0.60)\n",
    "\n",
    "#Drawing poitns\n",
    "plt.scatter(X[:, 0], X[:, 1], c=y, s=50, cmap='spring');"
   ]
  },
  {
   "cell_type": "markdown",
   "metadata": {
    "id": "ohfG9ZuTaOfU"
   },
   "source": [
    "A discriminative classifier attempts to draw a line between the two sets of data. Immediately we see a problem: such a line is ill-posed! For example, we could come up with several possibilities which perfectly discriminate between the classes in this example:"
   ]
  },
  {
   "cell_type": "code",
   "execution_count": null,
   "metadata": {
    "colab": {
     "base_uri": "https://localhost:8080/",
     "height": 265
    },
    "id": "DHEY_UA_aOfV",
    "outputId": "0e8ceb3c-78d2-411b-c63b-b9ef7125ad5b"
   },
   "outputs": [],
   "source": [
    "#defining x axis\n",
    "xfit = np.linspace(-1, 3.5)\n",
    "\n",
    "#drawing points\n",
    "plt.scatter(X[:, 0], X[:, 1], c=y, s=50, cmap='spring')\n",
    "\n",
    "#3 line parameters defined by ther values of m and b are drawn\n",
    "for m, b in [(1, 0.65), (0.5, 1.6), (-0.2, 2.9)]:\n",
    "    plt.plot(xfit, m * xfit + b, '-k')\n",
    "\n",
    "plt.xlim(-1, 3.5);"
   ]
  },
  {
   "cell_type": "markdown",
   "metadata": {
    "id": "FmgATMzCaOfc"
   },
   "source": [
    "These are three *very* different separaters which perfectly discriminate between these samples. Depending on which you choose, a new data point will be classified almost entirely differently!\n",
    "\n",
    "How can we improve on this?"
   ]
  },
  {
   "cell_type": "markdown",
   "metadata": {
    "id": "BnmAPF_0aOfc"
   },
   "source": [
    "### Support Vector Machines: Maximizing the *Margin*\n",
    "\n",
    "Support vector machines are one way to address this.\n",
    "What support vector machined do is to not only draw a line, but consider a *region* about the line of some given width.  Here's an example of what it might look like:"
   ]
  },
  {
   "cell_type": "code",
   "execution_count": null,
   "metadata": {
    "colab": {
     "base_uri": "https://localhost:8080/",
     "height": 265
    },
    "id": "YY7nq-6PaOfe",
    "outputId": "7c84bbc5-3f27-417a-a63d-a1c2fbf58f58"
   },
   "outputs": [],
   "source": [
    "xfit = np.linspace(-1, 3.5)\n",
    "plt.scatter(X[:, 0], X[:, 1], c=y, s=50, cmap='spring')\n",
    "\n",
    "for m, b, d in [(1, 0.65, 0.33), (0.5, 1.6, 0.55), (-0.2, 2.9, 0.2)]:\n",
    "    yfit = m * xfit + b\n",
    "    plt.plot(xfit, yfit, '-k')\n",
    "    \n",
    "    #drawing the margin (here we assume it is known and already computed)\n",
    "    plt.fill_between(xfit, yfit - d, yfit + d, edgecolor='none', color='#AAAAAA', alpha=0.4)\n",
    "\n",
    "plt.xlim(-1, 3.5);"
   ]
  },
  {
   "cell_type": "markdown",
   "metadata": {
    "id": "KhTfMvm_aOfi"
   },
   "source": [
    "Notice here that if we want to maximize the width of the gray region, the middle line is clearly the best.\n",
    "\n",
    "This is the intuition of **support vector machines**, which optimize a linear discriminant model in conjunction with a **margin** representing the perpendicular distance between the datasets."
   ]
  },
  {
   "cell_type": "markdown",
   "metadata": {
    "id": "GeFLMcOYaOfi"
   },
   "source": [
    "#### Fitting a Support Vector Machine\n",
    "\n",
    "Now we'll fit a Support Vector Machine Classifier to these points. We have seen the mathematical derivation in the lecture. Here instead, we'll just use the scikit-learn algorithm to fit the model."
   ]
  },
  {
   "cell_type": "code",
   "execution_count": null,
   "metadata": {
    "colab": {
     "base_uri": "https://localhost:8080/",
     "height": 85
    },
    "id": "hFcGnkm1aOfj",
    "outputId": "30220b49-a904-4709-9a39-29d0e3a1d4ed"
   },
   "outputs": [],
   "source": [
    "# Import the model from \"Support Vector Classifier\"\n",
    "from sklearn.svm import SVC  \n",
    "\n",
    "# Define the type of model\n",
    "clf = SVC(kernel='linear')\n",
    "\n",
    "# Fit the model to data\n",
    "clf.fit(X, y)"
   ]
  },
  {
   "cell_type": "markdown",
   "metadata": {
    "id": "L-d4QsbYaOfn"
   },
   "source": [
    "To better visualize what's happening, let's create a convenience function that will plot SVM decision boundaries for us:"
   ]
  },
  {
   "cell_type": "code",
   "execution_count": null,
   "metadata": {
    "id": "FLGkp2mxaOfo"
   },
   "outputs": [],
   "source": [
    "def plot_svc_decision_function(clf, ax=None):\n",
    "    \"\"\"Plot the decision function for a 2D SVC\"\"\"\n",
    "    if ax is None:\n",
    "        ax = plt.gca()\n",
    "    \n",
    "    #Create a 2D meshgrid with all point pairs to be considered\n",
    "    x = np.linspace(plt.xlim()[0], plt.xlim()[1], 30)\n",
    "    y = np.linspace(plt.ylim()[0], plt.ylim()[1], 30)\n",
    "    Y, X = np.meshgrid(y, x)\n",
    "    \n",
    "    #For every point in a grid we evaluate the decision function \n",
    "    #(CHECK WHAT clf.decision_function DOES IN SCIKIT DOCUMENTATION)\n",
    "    \n",
    "    P = np.zeros_like(X)\n",
    "    for i, xi in enumerate(x):\n",
    "        for j, yj in enumerate(y):\n",
    "            P[i, j] = clf.decision_function([[xi, yj]])\n",
    "        \n",
    "    # plot the margins\n",
    "    # which have been fixed to be -1 and +1 taking advantage of the scale ambiguity\n",
    "    ax.contour(X, Y, P, colors='k',\n",
    "               levels=[-1, 0, 1], alpha=0.5, \n",
    "               linestyles=['--', '-', '--'])"
   ]
  },
  {
   "cell_type": "code",
   "execution_count": null,
   "metadata": {
    "colab": {
     "base_uri": "https://localhost:8080/",
     "height": 265
    },
    "id": "UzXA1-KpaOfr",
    "outputId": "2e15c3c6-9218-4f67-ee84-eb36417279af"
   },
   "outputs": [],
   "source": [
    "plt.scatter(X[:, 0], X[:, 1], c=y, s=50, cmap='spring')\n",
    "plot_svc_decision_function(clf);"
   ]
  },
  {
   "cell_type": "markdown",
   "metadata": {
    "id": "dFEcWZmGaOft"
   },
   "source": [
    "Notice that the dashed lines touch a couple of the points: these points are the pivotal pieces of this fit, and are known as the *support vectors* (giving the algorithm its name).\n",
    "In scikit-learn, these are stored in the ``support_vectors_`` attribute of the classifier:"
   ]
  },
  {
   "cell_type": "code",
   "execution_count": null,
   "metadata": {
    "colab": {
     "base_uri": "https://localhost:8080/",
     "height": 265
    },
    "id": "7tllw1WhaOfu",
    "outputId": "d1fbc94c-bc44-4afe-dfc3-d1bd3a79f312"
   },
   "outputs": [],
   "source": [
    "plt.scatter(clf.support_vectors_[:, 0], clf.support_vectors_[:, 1],\n",
    "            s=150, facecolors= 'grey');\n",
    "plt.scatter(X[:, 0], X[:, 1], c=y, s=50, cmap='spring')\n",
    "plot_svc_decision_function(clf)\n"
   ]
  },
  {
   "cell_type": "markdown",
   "metadata": {
    "id": "DuNTCe7caOfw"
   },
   "source": [
    "Let's use IPython's ``interact`` functionality to explore how the distribution of points affects the support vectors and the discriminative fit.\n",
    "(This is only available in IPython 2.0+, and will not work in a static view)"
   ]
  },
  {
   "cell_type": "code",
   "execution_count": null,
   "metadata": {
    "colab": {
     "base_uri": "https://localhost:8080/",
     "height": 301,
     "referenced_widgets": [
      "fcd5e5bfe2714ee790c6d88bb30a0546",
      "6426842db4504af4822920c3929d5563",
      "2a8c4cd3523e48d7966863bf763b121d",
      "debaf5b10c5c49f29e38e1d6bc82dd3f",
      "865fe6ecfe604c059680479c0cc33270",
      "c34a5d26a2f34a9fb998f33627bc20ff",
      "b9cde738f62645b2b13d0ccef056984a"
     ]
    },
    "id": "Dq9oUUThaOfx",
    "outputId": "4581139f-cf6e-41e7-88b3-635069f1b206"
   },
   "outputs": [],
   "source": [
    "#from ipywidgets import interact \n",
    "#(uncomment and check if working on your computer otherwise plot for every value)\n",
    "\n",
    "def plot_svm(N=10):\n",
    "    X, y = make_blobs(n_samples=200, centers=2,\n",
    "                      random_state=0, cluster_std=0.60)\n",
    "    X = X[:N]\n",
    "    y = y[:N]\n",
    "    clf = SVC(kernel='linear')\n",
    "    clf.fit(X, y)\n",
    "    plt.xlim(-1, 4)\n",
    "    plt.ylim(-1, 6)\n",
    "    plot_svc_decision_function(clf, plt.gca())\n",
    "    plt.scatter(clf.support_vectors_[:, 0], clf.support_vectors_[:, 1],\n",
    "                s=150, facecolors='grey')\n",
    "    plt.scatter(X[:, 0], X[:, 1], c=y, s=50, cmap='spring')\n",
    "    \n",
    "#interact(plot_svm, N=[10, 50,100,150, 200], kernel='linear');\n",
    "#(uncomment and check if working on your computer otherwise plot for every value)\n",
    "\n",
    "\n",
    "\n",
    "Nvec=[10, 50,100,150, 200]\n",
    "for i in Nvec:\n",
    "    plot_svm(N=i)\n",
    "    plt.show()"
   ]
  },
  {
   "cell_type": "markdown",
   "metadata": {
    "id": "56pJbyzJaOfz"
   },
   "source": [
    "Notice the unique thing about SVM is that only the support vectors matter: that is, if you moved any of the other points without letting them cross the decision boundaries, they would have no effect on the classification results!"
   ]
  },
  {
   "cell_type": "markdown",
   "metadata": {
    "id": "OkTjc5VQidnh"
   },
   "source": [
    "## FOR THE REPORT\n",
    "The parameters of the optimized model are accesible through the variables:\n",
    "\n",
    "- clf.coef_ \n",
    "- clf.intercept_\n",
    "- clf.support_\n",
    "- clf.dual_coef_\n",
    "\n",
    "**Question** Look at the documentation to find what do these variables stand for?\n",
    "\n",
    "Can you relate the following functions to their equations in the lecture\n",
    "- clf.decision_function(X)\n",
    "- clf.predict(X)\n",
    "\n"
   ]
  },
  {
   "cell_type": "markdown",
   "metadata": {
    "id": "r4XpcdqRKoAP"
   },
   "source": [
    "**Answer**\n",
    "* `clf.coef_` correspond à $w$.\n",
    "* `clf.intercept_` correspond à $w_0$.\n",
    "* `clf.support_` correspond aux indices des vecteurs de support.\n",
    "* `clf.dual_coef_` correspond aux produits $y_i \\alpha_i$.\n",
    "* `clf.decision_function(X)` correspond à $w^T X + w_0$.\n",
    "* `clf.predict(X)` correspond à $sign(w^T X + w_0)$."
   ]
  },
  {
   "cell_type": "markdown",
   "metadata": {
    "id": "I5kvx0z3aOfz"
   },
   "source": [
    "#### Going further: Kernel Methods\n",
    "\n",
    "Where SVM gets incredibly exciting is when it is used in conjunction with *kernels*.\n",
    "To motivate the need for kernels, let's look at some data which is not linearly separable:"
   ]
  },
  {
   "cell_type": "code",
   "execution_count": null,
   "metadata": {
    "colab": {
     "base_uri": "https://localhost:8080/",
     "height": 265
    },
    "id": "5qUWpUfpaOf0",
    "outputId": "05f39352-692e-4222-a1e7-62d19c343ffa"
   },
   "outputs": [],
   "source": [
    "from sklearn.datasets import make_circles\n",
    "X, y = make_circles(100, factor=.1, noise=.1)\n",
    "\n",
    "clf = SVC(kernel='linear').fit(X, y)\n",
    "\n",
    "plt.scatter(X[:, 0], X[:, 1], c=y, s=50, cmap='spring')\n",
    "plot_svc_decision_function(clf);"
   ]
  },
  {
   "cell_type": "markdown",
   "metadata": {
    "id": "W-Ugjyf8aOf2"
   },
   "source": [
    "Clearly, no linear discrimination will ever separate these data.\n",
    "One way we can adjust this is to apply a **kernel**, which is some functional transformation of the input data.\n",
    "\n",
    "For example, one simple model we could use is a **radial basis function:**"
   ]
  },
  {
   "cell_type": "code",
   "execution_count": null,
   "metadata": {
    "id": "yBsVuqeiaOf2"
   },
   "outputs": [],
   "source": [
    "r = np.exp(-(X[:, 0] ** 2 + X[:, 1] ** 2))"
   ]
  },
  {
   "cell_type": "markdown",
   "metadata": {
    "id": "3y2RujCBaOf5"
   },
   "source": [
    "If we plot this along with our data, we can see the effect of it:"
   ]
  },
  {
   "cell_type": "code",
   "execution_count": null,
   "metadata": {
    "colab": {
     "base_uri": "https://localhost:8080/",
     "height": 312,
     "referenced_widgets": [
      "fb79d3f1d91f4df39c556b399f28917e",
      "653e18f2f8964c56972cf8d94c0f5ade",
      "a945d427122c4dc18144516748432a63",
      "b3fc1d7049fc4146a6e823e0224f9a72",
      "7caa3a913c1542318c219dbe15131801",
      "a31d4ab9c10643eeb73b583355f84d6d",
      "bd6136ef30be4eb5adb74df63209846b",
      "c9ea76082a9d4df09898482b3571c5e2",
      "1ef9fc298f40474f946a9fc1072409a4",
      "4596d2bface34f1ba8c43bba188243c8"
     ]
    },
    "id": "m6zJjUVQaOf5",
    "outputId": "354482bb-f098-4900-e0c3-815ac75e1117"
   },
   "outputs": [],
   "source": [
    "from mpl_toolkits import mplot3d\n",
    "from ipywidgets import interact\n",
    "\n",
    "\n",
    "#import ipywidgets as widgets\n",
    "\n",
    "\n",
    "def plot_3D(elev=30, azim=30):\n",
    "    ax = plt.subplot(projection='3d')\n",
    "    ax.scatter3D(X[:, 0], X[:, 1], r, c=y, s=50, cmap='spring')\n",
    "    ax.view_init(elev=elev, azim=azim)\n",
    "    ax.set_xlabel('x')\n",
    "    ax.set_ylabel('y')\n",
    "    ax.set_zlabel('r')\n",
    "\n",
    "interact(plot_3D, elev=[-90, 90], azip=(-180, 180));\n",
    "interact(plot_3D, elev=[-60, -30, 0, 30, 60], azip=(-180, 180));\n",
    "#widgets.interact\n",
    "\n",
    "#plot_3D(elev=-60, azim=-30)"
   ]
  },
  {
   "cell_type": "markdown",
   "metadata": {
    "id": "G65vgKm1aOf7"
   },
   "source": [
    "We can see that with this additional dimension, the data becomes trivially linearly separable!\n",
    "This is a relatively simple kernel; SVM has a more sophisticated version of this kernel built-in to the process. This is accomplished by using ``kernel='rbf'``, short for *radial basis function*:"
   ]
  },
  {
   "cell_type": "code",
   "execution_count": null,
   "metadata": {
    "colab": {
     "base_uri": "https://localhost:8080/",
     "height": 265
    },
    "id": "0gz4YG2UaOf7",
    "outputId": "677b9072-c19b-4a4d-dbdd-5ce435d2558b"
   },
   "outputs": [],
   "source": [
    "clf = SVC(kernel='rbf')\n",
    "clf.fit(X, y)\n",
    "\n",
    "\n",
    "plt.scatter(clf.support_vectors_[:, 0], clf.support_vectors_[:, 1],\n",
    "            s=200, facecolors='gray');\n",
    "plt.scatter(X[:, 0], X[:, 1], c=y, s=50, cmap='spring')\n",
    "plot_svc_decision_function(clf)\n",
    "\n"
   ]
  },
  {
   "cell_type": "markdown",
   "metadata": {
    "id": "EIcN9tT9aOf9"
   },
   "source": [
    "Here there are effectively $N$ basis functions: one centered at each point! Through a clever mathematical trick, this computation proceeds very efficiently using the \"Kernel Trick\", without actually constructing the matrix of kernel evaluations.\n",
    "\n"
   ]
  },
  {
   "cell_type": "markdown",
   "metadata": {},
   "source": [
    "## FOR THE REPORT\n",
    "**Question:** What is happening next?"
   ]
  },
  {
   "cell_type": "code",
   "execution_count": null,
   "metadata": {
    "id": "wbGSKz9_adpJ"
   },
   "outputs": [],
   "source": [
    "clf = SVC(kernel='rbf', C=0.1)\n",
    "clf.fit(X, y)\n",
    "\n",
    "\n",
    "plt.scatter(clf.support_vectors_[:, 0], clf.support_vectors_[:, 1],\n",
    "            s=200, facecolors='gray');\n",
    "plt.scatter(X[:, 0], X[:, 1], c=y, s=50, cmap='spring')\n",
    "plot_svc_decision_function(clf)\n"
   ]
  },
  {
   "cell_type": "markdown",
   "metadata": {},
   "source": [
    "**Answer** Dans ce cas ci, on introduit un a recourt à une régularisation. Ce choix de la valeur du paramètre `C` fait qu'une plus grande importance est données à la maximisation de la marge qu'à la réduction des erreurs de classification."
   ]
  }
 ],
 "metadata": {
  "anaconda-cloud": {},
  "colab": {
   "collapsed_sections": [],
   "name": "02-ARTIN-understanding-svms-sv.ipynb",
   "provenance": []
  },
  "kernelspec": {
   "display_name": "Python 3 (ipykernel)",
   "language": "python",
   "name": "python3"
  },
  "language_info": {
   "codemirror_mode": {
    "name": "ipython",
    "version": 3
   },
   "file_extension": ".py",
   "mimetype": "text/x-python",
   "name": "python",
   "nbconvert_exporter": "python",
   "pygments_lexer": "ipython3",
   "version": "3.10.1"
  },
  "widgets": {
   "application/vnd.jupyter.widget-state+json": {
    "1ef9fc298f40474f946a9fc1072409a4": {
     "model_module": "@jupyter-widgets/base",
     "model_name": "LayoutModel",
     "state": {
      "_model_module": "@jupyter-widgets/base",
      "_model_module_version": "1.2.0",
      "_model_name": "LayoutModel",
      "_view_count": null,
      "_view_module": "@jupyter-widgets/base",
      "_view_module_version": "1.2.0",
      "_view_name": "LayoutView",
      "align_content": null,
      "align_items": null,
      "align_self": null,
      "border": null,
      "bottom": null,
      "display": null,
      "flex": null,
      "flex_flow": null,
      "grid_area": null,
      "grid_auto_columns": null,
      "grid_auto_flow": null,
      "grid_auto_rows": null,
      "grid_column": null,
      "grid_gap": null,
      "grid_row": null,
      "grid_template_areas": null,
      "grid_template_columns": null,
      "grid_template_rows": null,
      "height": null,
      "justify_content": null,
      "justify_items": null,
      "left": null,
      "margin": null,
      "max_height": null,
      "max_width": null,
      "min_height": null,
      "min_width": null,
      "object_fit": null,
      "object_position": null,
      "order": null,
      "overflow": null,
      "overflow_x": null,
      "overflow_y": null,
      "padding": null,
      "right": null,
      "top": null,
      "visibility": null,
      "width": null
     }
    },
    "2a8c4cd3523e48d7966863bf763b121d": {
     "model_module": "@jupyter-widgets/controls",
     "model_name": "DropdownModel",
     "state": {
      "_dom_classes": [],
      "_model_module": "@jupyter-widgets/controls",
      "_model_module_version": "1.5.0",
      "_model_name": "DropdownModel",
      "_options_labels": [
       "10",
       "50",
       "100",
       "150",
       "200"
      ],
      "_view_count": null,
      "_view_module": "@jupyter-widgets/controls",
      "_view_module_version": "1.5.0",
      "_view_name": "DropdownView",
      "description": "N",
      "description_tooltip": null,
      "disabled": false,
      "index": 0,
      "layout": "IPY_MODEL_c34a5d26a2f34a9fb998f33627bc20ff",
      "style": "IPY_MODEL_865fe6ecfe604c059680479c0cc33270"
     }
    },
    "4596d2bface34f1ba8c43bba188243c8": {
     "model_module": "@jupyter-widgets/base",
     "model_name": "LayoutModel",
     "state": {
      "_model_module": "@jupyter-widgets/base",
      "_model_module_version": "1.2.0",
      "_model_name": "LayoutModel",
      "_view_count": null,
      "_view_module": "@jupyter-widgets/base",
      "_view_module_version": "1.2.0",
      "_view_name": "LayoutView",
      "align_content": null,
      "align_items": null,
      "align_self": null,
      "border": null,
      "bottom": null,
      "display": null,
      "flex": null,
      "flex_flow": null,
      "grid_area": null,
      "grid_auto_columns": null,
      "grid_auto_flow": null,
      "grid_auto_rows": null,
      "grid_column": null,
      "grid_gap": null,
      "grid_row": null,
      "grid_template_areas": null,
      "grid_template_columns": null,
      "grid_template_rows": null,
      "height": null,
      "justify_content": null,
      "justify_items": null,
      "left": null,
      "margin": null,
      "max_height": null,
      "max_width": null,
      "min_height": null,
      "min_width": null,
      "object_fit": null,
      "object_position": null,
      "order": null,
      "overflow": null,
      "overflow_x": null,
      "overflow_y": null,
      "padding": null,
      "right": null,
      "top": null,
      "visibility": null,
      "width": null
     }
    },
    "6426842db4504af4822920c3929d5563": {
     "model_module": "@jupyter-widgets/base",
     "model_name": "LayoutModel",
     "state": {
      "_model_module": "@jupyter-widgets/base",
      "_model_module_version": "1.2.0",
      "_model_name": "LayoutModel",
      "_view_count": null,
      "_view_module": "@jupyter-widgets/base",
      "_view_module_version": "1.2.0",
      "_view_name": "LayoutView",
      "align_content": null,
      "align_items": null,
      "align_self": null,
      "border": null,
      "bottom": null,
      "display": null,
      "flex": null,
      "flex_flow": null,
      "grid_area": null,
      "grid_auto_columns": null,
      "grid_auto_flow": null,
      "grid_auto_rows": null,
      "grid_column": null,
      "grid_gap": null,
      "grid_row": null,
      "grid_template_areas": null,
      "grid_template_columns": null,
      "grid_template_rows": null,
      "height": null,
      "justify_content": null,
      "justify_items": null,
      "left": null,
      "margin": null,
      "max_height": null,
      "max_width": null,
      "min_height": null,
      "min_width": null,
      "object_fit": null,
      "object_position": null,
      "order": null,
      "overflow": null,
      "overflow_x": null,
      "overflow_y": null,
      "padding": null,
      "right": null,
      "top": null,
      "visibility": null,
      "width": null
     }
    },
    "653e18f2f8964c56972cf8d94c0f5ade": {
     "model_module": "@jupyter-widgets/base",
     "model_name": "LayoutModel",
     "state": {
      "_model_module": "@jupyter-widgets/base",
      "_model_module_version": "1.2.0",
      "_model_name": "LayoutModel",
      "_view_count": null,
      "_view_module": "@jupyter-widgets/base",
      "_view_module_version": "1.2.0",
      "_view_name": "LayoutView",
      "align_content": null,
      "align_items": null,
      "align_self": null,
      "border": null,
      "bottom": null,
      "display": null,
      "flex": null,
      "flex_flow": null,
      "grid_area": null,
      "grid_auto_columns": null,
      "grid_auto_flow": null,
      "grid_auto_rows": null,
      "grid_column": null,
      "grid_gap": null,
      "grid_row": null,
      "grid_template_areas": null,
      "grid_template_columns": null,
      "grid_template_rows": null,
      "height": null,
      "justify_content": null,
      "justify_items": null,
      "left": null,
      "margin": null,
      "max_height": null,
      "max_width": null,
      "min_height": null,
      "min_width": null,
      "object_fit": null,
      "object_position": null,
      "order": null,
      "overflow": null,
      "overflow_x": null,
      "overflow_y": null,
      "padding": null,
      "right": null,
      "top": null,
      "visibility": null,
      "width": null
     }
    },
    "7caa3a913c1542318c219dbe15131801": {
     "model_module": "@jupyter-widgets/output",
     "model_name": "OutputModel",
     "state": {
      "_dom_classes": [],
      "_model_module": "@jupyter-widgets/output",
      "_model_module_version": "1.0.0",
      "_model_name": "OutputModel",
      "_view_count": null,
      "_view_module": "@jupyter-widgets/output",
      "_view_module_version": "1.0.0",
      "_view_name": "OutputView",
      "layout": "IPY_MODEL_4596d2bface34f1ba8c43bba188243c8",
      "msg_id": "",
      "outputs": [
       {
        "image/png": "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\n",
        "metadata": {
         "needs_background": "light",
         "tags": []
        },
        "output_type": "display_data",
        "text/plain": "<Figure size 432x288 with 1 Axes>"
       }
      ]
     }
    },
    "865fe6ecfe604c059680479c0cc33270": {
     "model_module": "@jupyter-widgets/controls",
     "model_name": "DescriptionStyleModel",
     "state": {
      "_model_module": "@jupyter-widgets/controls",
      "_model_module_version": "1.5.0",
      "_model_name": "DescriptionStyleModel",
      "_view_count": null,
      "_view_module": "@jupyter-widgets/base",
      "_view_module_version": "1.2.0",
      "_view_name": "StyleView",
      "description_width": ""
     }
    },
    "a31d4ab9c10643eeb73b583355f84d6d": {
     "model_module": "@jupyter-widgets/controls",
     "model_name": "DescriptionStyleModel",
     "state": {
      "_model_module": "@jupyter-widgets/controls",
      "_model_module_version": "1.5.0",
      "_model_name": "DescriptionStyleModel",
      "_view_count": null,
      "_view_module": "@jupyter-widgets/base",
      "_view_module_version": "1.2.0",
      "_view_name": "StyleView",
      "description_width": ""
     }
    },
    "a945d427122c4dc18144516748432a63": {
     "model_module": "@jupyter-widgets/controls",
     "model_name": "DropdownModel",
     "state": {
      "_dom_classes": [],
      "_model_module": "@jupyter-widgets/controls",
      "_model_module_version": "1.5.0",
      "_model_name": "DropdownModel",
      "_options_labels": [
       "-60",
       "-30",
       "0",
       "30",
       "60"
      ],
      "_view_count": null,
      "_view_module": "@jupyter-widgets/controls",
      "_view_module_version": "1.5.0",
      "_view_name": "DropdownView",
      "description": "elev",
      "description_tooltip": null,
      "disabled": false,
      "index": 3,
      "layout": "IPY_MODEL_bd6136ef30be4eb5adb74df63209846b",
      "style": "IPY_MODEL_a31d4ab9c10643eeb73b583355f84d6d"
     }
    },
    "b3fc1d7049fc4146a6e823e0224f9a72": {
     "model_module": "@jupyter-widgets/controls",
     "model_name": "IntSliderModel",
     "state": {
      "_dom_classes": [],
      "_model_module": "@jupyter-widgets/controls",
      "_model_module_version": "1.5.0",
      "_model_name": "IntSliderModel",
      "_view_count": null,
      "_view_module": "@jupyter-widgets/controls",
      "_view_module_version": "1.5.0",
      "_view_name": "IntSliderView",
      "continuous_update": true,
      "description": "azim",
      "description_tooltip": null,
      "disabled": false,
      "layout": "IPY_MODEL_1ef9fc298f40474f946a9fc1072409a4",
      "max": 90,
      "min": -30,
      "orientation": "horizontal",
      "readout": true,
      "readout_format": "d",
      "step": 1,
      "style": "IPY_MODEL_c9ea76082a9d4df09898482b3571c5e2",
      "value": 30
     }
    },
    "b9cde738f62645b2b13d0ccef056984a": {
     "model_module": "@jupyter-widgets/base",
     "model_name": "LayoutModel",
     "state": {
      "_model_module": "@jupyter-widgets/base",
      "_model_module_version": "1.2.0",
      "_model_name": "LayoutModel",
      "_view_count": null,
      "_view_module": "@jupyter-widgets/base",
      "_view_module_version": "1.2.0",
      "_view_name": "LayoutView",
      "align_content": null,
      "align_items": null,
      "align_self": null,
      "border": null,
      "bottom": null,
      "display": null,
      "flex": null,
      "flex_flow": null,
      "grid_area": null,
      "grid_auto_columns": null,
      "grid_auto_flow": null,
      "grid_auto_rows": null,
      "grid_column": null,
      "grid_gap": null,
      "grid_row": null,
      "grid_template_areas": null,
      "grid_template_columns": null,
      "grid_template_rows": null,
      "height": null,
      "justify_content": null,
      "justify_items": null,
      "left": null,
      "margin": null,
      "max_height": null,
      "max_width": null,
      "min_height": null,
      "min_width": null,
      "object_fit": null,
      "object_position": null,
      "order": null,
      "overflow": null,
      "overflow_x": null,
      "overflow_y": null,
      "padding": null,
      "right": null,
      "top": null,
      "visibility": null,
      "width": null
     }
    },
    "bd6136ef30be4eb5adb74df63209846b": {
     "model_module": "@jupyter-widgets/base",
     "model_name": "LayoutModel",
     "state": {
      "_model_module": "@jupyter-widgets/base",
      "_model_module_version": "1.2.0",
      "_model_name": "LayoutModel",
      "_view_count": null,
      "_view_module": "@jupyter-widgets/base",
      "_view_module_version": "1.2.0",
      "_view_name": "LayoutView",
      "align_content": null,
      "align_items": null,
      "align_self": null,
      "border": null,
      "bottom": null,
      "display": null,
      "flex": null,
      "flex_flow": null,
      "grid_area": null,
      "grid_auto_columns": null,
      "grid_auto_flow": null,
      "grid_auto_rows": null,
      "grid_column": null,
      "grid_gap": null,
      "grid_row": null,
      "grid_template_areas": null,
      "grid_template_columns": null,
      "grid_template_rows": null,
      "height": null,
      "justify_content": null,
      "justify_items": null,
      "left": null,
      "margin": null,
      "max_height": null,
      "max_width": null,
      "min_height": null,
      "min_width": null,
      "object_fit": null,
      "object_position": null,
      "order": null,
      "overflow": null,
      "overflow_x": null,
      "overflow_y": null,
      "padding": null,
      "right": null,
      "top": null,
      "visibility": null,
      "width": null
     }
    },
    "c34a5d26a2f34a9fb998f33627bc20ff": {
     "model_module": "@jupyter-widgets/base",
     "model_name": "LayoutModel",
     "state": {
      "_model_module": "@jupyter-widgets/base",
      "_model_module_version": "1.2.0",
      "_model_name": "LayoutModel",
      "_view_count": null,
      "_view_module": "@jupyter-widgets/base",
      "_view_module_version": "1.2.0",
      "_view_name": "LayoutView",
      "align_content": null,
      "align_items": null,
      "align_self": null,
      "border": null,
      "bottom": null,
      "display": null,
      "flex": null,
      "flex_flow": null,
      "grid_area": null,
      "grid_auto_columns": null,
      "grid_auto_flow": null,
      "grid_auto_rows": null,
      "grid_column": null,
      "grid_gap": null,
      "grid_row": null,
      "grid_template_areas": null,
      "grid_template_columns": null,
      "grid_template_rows": null,
      "height": null,
      "justify_content": null,
      "justify_items": null,
      "left": null,
      "margin": null,
      "max_height": null,
      "max_width": null,
      "min_height": null,
      "min_width": null,
      "object_fit": null,
      "object_position": null,
      "order": null,
      "overflow": null,
      "overflow_x": null,
      "overflow_y": null,
      "padding": null,
      "right": null,
      "top": null,
      "visibility": null,
      "width": null
     }
    },
    "c9ea76082a9d4df09898482b3571c5e2": {
     "model_module": "@jupyter-widgets/controls",
     "model_name": "SliderStyleModel",
     "state": {
      "_model_module": "@jupyter-widgets/controls",
      "_model_module_version": "1.5.0",
      "_model_name": "SliderStyleModel",
      "_view_count": null,
      "_view_module": "@jupyter-widgets/base",
      "_view_module_version": "1.2.0",
      "_view_name": "StyleView",
      "description_width": "",
      "handle_color": null
     }
    },
    "debaf5b10c5c49f29e38e1d6bc82dd3f": {
     "model_module": "@jupyter-widgets/output",
     "model_name": "OutputModel",
     "state": {
      "_dom_classes": [],
      "_model_module": "@jupyter-widgets/output",
      "_model_module_version": "1.0.0",
      "_model_name": "OutputModel",
      "_view_count": null,
      "_view_module": "@jupyter-widgets/output",
      "_view_module_version": "1.0.0",
      "_view_name": "OutputView",
      "layout": "IPY_MODEL_b9cde738f62645b2b13d0ccef056984a",
      "msg_id": "",
      "outputs": [
       {
        "image/png": "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\n",
        "metadata": {
         "needs_background": "light",
         "tags": []
        },
        "output_type": "display_data",
        "text/plain": "<Figure size 432x288 with 1 Axes>"
       }
      ]
     }
    },
    "fb79d3f1d91f4df39c556b399f28917e": {
     "model_module": "@jupyter-widgets/controls",
     "model_name": "VBoxModel",
     "state": {
      "_dom_classes": [
       "widget-interact"
      ],
      "_model_module": "@jupyter-widgets/controls",
      "_model_module_version": "1.5.0",
      "_model_name": "VBoxModel",
      "_view_count": null,
      "_view_module": "@jupyter-widgets/controls",
      "_view_module_version": "1.5.0",
      "_view_name": "VBoxView",
      "box_style": "",
      "children": [
       "IPY_MODEL_a945d427122c4dc18144516748432a63",
       "IPY_MODEL_b3fc1d7049fc4146a6e823e0224f9a72",
       "IPY_MODEL_7caa3a913c1542318c219dbe15131801"
      ],
      "layout": "IPY_MODEL_653e18f2f8964c56972cf8d94c0f5ade"
     }
    },
    "fcd5e5bfe2714ee790c6d88bb30a0546": {
     "model_module": "@jupyter-widgets/controls",
     "model_name": "VBoxModel",
     "state": {
      "_dom_classes": [
       "widget-interact"
      ],
      "_model_module": "@jupyter-widgets/controls",
      "_model_module_version": "1.5.0",
      "_model_name": "VBoxModel",
      "_view_count": null,
      "_view_module": "@jupyter-widgets/controls",
      "_view_module_version": "1.5.0",
      "_view_name": "VBoxView",
      "box_style": "",
      "children": [
       "IPY_MODEL_2a8c4cd3523e48d7966863bf763b121d",
       "IPY_MODEL_debaf5b10c5c49f29e38e1d6bc82dd3f"
      ],
      "layout": "IPY_MODEL_6426842db4504af4822920c3929d5563"
     }
    }
   }
  }
 },
 "nbformat": 4,
 "nbformat_minor": 1
}
